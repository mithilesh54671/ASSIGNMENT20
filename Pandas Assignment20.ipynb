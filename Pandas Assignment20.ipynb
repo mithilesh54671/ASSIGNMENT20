{
 "cells": [
  {
   "cell_type": "markdown",
   "id": "ac1a4e70-5b7c-457a-be84-12f9ac08d94e",
   "metadata": {},
   "source": [
    "Q1. Create a Pandas Series that contains the following data: 4, 8, 15, 16, 23, and 42. Then, print the series."
   ]
  },
  {
   "cell_type": "code",
   "execution_count": 1,
   "id": "0bf1e76e-5324-4a58-98f9-000954542d32",
   "metadata": {},
   "outputs": [],
   "source": [
    "import pandas as pd"
   ]
  },
  {
   "cell_type": "code",
   "execution_count": 2,
   "id": "97b9c99c-c343-492c-bd58-2d00adab13a2",
   "metadata": {},
   "outputs": [
    {
     "name": "stdout",
     "output_type": "stream",
     "text": [
      "Requirement already satisfied: pandas in /opt/conda/lib/python3.10/site-packages (1.5.2)\n",
      "Requirement already satisfied: python-dateutil>=2.8.1 in /opt/conda/lib/python3.10/site-packages (from pandas) (2.8.2)\n",
      "Requirement already satisfied: pytz>=2020.1 in /opt/conda/lib/python3.10/site-packages (from pandas) (2022.6)\n",
      "Requirement already satisfied: numpy>=1.21.0 in /opt/conda/lib/python3.10/site-packages (from pandas) (1.23.5)\n",
      "Requirement already satisfied: six>=1.5 in /opt/conda/lib/python3.10/site-packages (from python-dateutil>=2.8.1->pandas) (1.16.0)\n",
      "Note: you may need to restart the kernel to use updated packages.\n"
     ]
    }
   ],
   "source": [
    "pip install pandas"
   ]
  },
  {
   "cell_type": "code",
   "execution_count": 3,
   "id": "102d5c0e-2499-4bb2-b9c4-c30a68265e0b",
   "metadata": {},
   "outputs": [
    {
     "name": "stdout",
     "output_type": "stream",
     "text": [
      "0     4\n",
      "1     8\n",
      "2    15\n",
      "3    16\n",
      "4    23\n",
      "5    42\n",
      "dtype: int64\n"
     ]
    }
   ],
   "source": [
    "import pandas as pd \n",
    "import numpy as np\n",
    "data = np.array([4,8,15,16,23,42])\n",
    "ser = pd.Series(data)\n",
    "print(ser)"
   ]
  },
  {
   "cell_type": "markdown",
   "id": "bca01e39-2c25-4605-adfc-692fab2befa0",
   "metadata": {},
   "source": [
    "Q2. Create a variable of list type containing 10 elements in it, and apply pandas.Series function on the\n",
    "variable print it."
   ]
  },
  {
   "cell_type": "code",
   "execution_count": 6,
   "id": "7e6ad71e-badf-42fd-a457-cc4a8cf52c02",
   "metadata": {},
   "outputs": [
    {
     "name": "stdout",
     "output_type": "stream",
     "text": [
      "10     Geeks\n",
      "20       for\n",
      "30     Geeks\n",
      "40        is\n",
      "50    portal\n",
      "60       for\n",
      "70     geeks\n",
      "dtype: object\n"
     ]
    }
   ],
   "source": [
    "# import pandas lib. as pd\n",
    "import pandas as pd\n",
    "ind = [10,20,30,40,50,60,70]\n",
    "list = ['Geeks', 'for', 'Geeks', 'is', 'portal', 'for', 'geeks']\n",
    "\n",
    "#create Pandas series with define indexex \n",
    "x = pd.Series(list, index = ind)\n",
    "\n",
    "#print the series \n",
    "print(x)"
   ]
  },
  {
   "cell_type": "markdown",
   "id": "d2039886-fa47-4b32-bfee-906fd30eb290",
   "metadata": {},
   "source": [
    "Q3. Create a Pandas DataFrame that contains the following data:\n",
    "\n",
    "Then, print the DataFrame."
   ]
  },
  {
   "cell_type": "code",
   "execution_count": 9,
   "id": "f9ce58fd-5f2a-4c24-a282-2633697f7177",
   "metadata": {},
   "outputs": [
    {
     "name": "stdout",
     "output_type": "stream",
     "text": [
      "     name  age  Claire\n",
      "a   alice   25  female\n",
      "b     bob   30    male\n",
      "c  Claire   27  female\n"
     ]
    }
   ],
   "source": [
    "import pandas as pd\n",
    "import numpy as np\n",
    "\n",
    "exam_data = {'name' : ['alice', 'bob', 'Claire'],\n",
    "            'age' : [25, 30, 27],\n",
    "            'Claire' : ['female', 'male', 'female']}\n",
    "#labels = ['a', 'b', 'c']\n",
    "\n",
    "df = pd.DataFrame(exam_data , index=labels)\n",
    "print(df)"
   ]
  },
  {
   "cell_type": "markdown",
   "id": "10986923-3fe8-4d1c-a581-ecca97b4e668",
   "metadata": {},
   "source": [
    "Q4. What is ‘DataFrame’ in pandas and how is it different from pandas.series? Explain with an example."
   ]
  },
  {
   "cell_type": "markdown",
   "id": "84594c8e-ce28-41c7-8bf8-dd76aba8bb2b",
   "metadata": {},
   "source": [
    "As noted in the table, a pandas Series is a 1D array of data, but a single column DataFrame is a 2D table with one column. The main distinction between the two is this. For a single-column DataFrame, an index can be optional, but a series has to have an index defined."
   ]
  },
  {
   "cell_type": "markdown",
   "id": "39b7c631-1221-4210-ba2e-82d73c51f450",
   "metadata": {},
   "source": [
    "Q5. What are some common functions you can use to manipulate data in a Pandas DataFrame? Can\n",
    "you give an example of when you might use one of these functions?"
   ]
  },
  {
   "cell_type": "markdown",
   "id": "15ca7c0d-1ca6-4d41-9ed2-e5843389489f",
   "metadata": {},
   "source": [
    "Most Important Pandas Functions for Data Science\n",
    "1.read_csv() This is one of the most crucial pandas methods in Python.\n",
    "2.head() head(n) is used to return the first n rows of a dataset.\n",
    "3.describe()\n",
    "4.memory_usage()\n",
    "5.astype()\n",
    "6.loc(:)\n",
    "7.to_datetime()\n",
    "8.value_counts()"
   ]
  },
  {
   "cell_type": "markdown",
   "id": "e0de60ee-b141-4f28-ad0f-dfe6faa3e74e",
   "metadata": {},
   "source": [
    "Q6. Which of the following is mutable in nature Series, DataFrame, Panel?"
   ]
  },
  {
   "cell_type": "markdown",
   "id": "7270dc86-4b62-48c8-8717-74665488e0c7",
   "metadata": {},
   "source": [
    "All Pandas data structures are value mutable (can be changed ) and except Series all are size mutable. Series is size immutable. Note - DataFrame is widely used and one of the most important data structures. Panel is used much less"
   ]
  },
  {
   "cell_type": "markdown",
   "id": "2163ecc5-b78b-4bdd-8767-4e9868c19edb",
   "metadata": {},
   "source": [
    "Q7. Create a DataFrame using multiple Series. Explain with an example."
   ]
  },
  {
   "cell_type": "code",
   "execution_count": null,
   "id": "735f6a3b-7d33-4fb6-bf6d-067c11af6ea0",
   "metadata": {},
   "outputs": [],
   "source": [
    "course = pd.Series([\"Spark\", \"PySpark\", \"Hadoop\"])\n",
    "fees = pd.Series([22000, 25000, 23000])\n",
    "discount = pd.Series([1000, 2300, 1000])\n",
    "\n",
    "df=pd.concat([courses,fees], axis=1)\n",
    "\n",
    "df=pd.concat([courses,fees,discount], axis=1)\n",
    "print(df)"
   ]
  },
  {
   "cell_type": "code",
   "execution_count": null,
   "id": "ccffc1a1-29bc-4748-82d7-fca450fb0984",
   "metadata": {},
   "outputs": [],
   "source": [
    "course = pd.Series([\"Spark\", \"PySpark\", \"Hadoop\"])\n",
    "fees = pd.Series([22000, 25000, 23000])\n",
    "discount = pd.Series([1000, 2300, 1000])\n",
    "\n",
    "df=pd.concat([courses,fees], axis=1)\n",
    "\n",
    "df=pd.concat([courses,fees,discount], axis=1)\n",
    "print(df)"
   ]
  },
  {
   "cell_type": "code",
   "execution_count": null,
   "id": "46015d6f-336f-4a41-87f0-b9978ad8a007",
   "metadata": {},
   "outputs": [],
   "source": []
  }
 ],
 "metadata": {
  "kernelspec": {
   "display_name": "Python 3 (ipykernel)",
   "language": "python",
   "name": "python3"
  },
  "language_info": {
   "codemirror_mode": {
    "name": "ipython",
    "version": 3
   },
   "file_extension": ".py",
   "mimetype": "text/x-python",
   "name": "python",
   "nbconvert_exporter": "python",
   "pygments_lexer": "ipython3",
   "version": "3.10.8"
  }
 },
 "nbformat": 4,
 "nbformat_minor": 5
}
